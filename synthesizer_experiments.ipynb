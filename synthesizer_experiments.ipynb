{
 "cells": [
  {
   "cell_type": "code",
   "execution_count": 2,
   "metadata": {},
   "outputs": [
    {
     "name": "stderr",
     "output_type": "stream",
     "text": [
      "C:\\Users\\jz124\\Anaconda2\\envs\\py36\\lib\\site-packages\\tensorflow\\python\\framework\\dtypes.py:523: FutureWarning: Passing (type, 1) or '1type' as a synonym of type is deprecated; in a future version of numpy, it will be understood as (type, (1,)) / '(1,)type'.\n",
      "  _np_qint8 = np.dtype([(\"qint8\", np.int8, 1)])\n",
      "C:\\Users\\jz124\\Anaconda2\\envs\\py36\\lib\\site-packages\\tensorflow\\python\\framework\\dtypes.py:524: FutureWarning: Passing (type, 1) or '1type' as a synonym of type is deprecated; in a future version of numpy, it will be understood as (type, (1,)) / '(1,)type'.\n",
      "  _np_quint8 = np.dtype([(\"quint8\", np.uint8, 1)])\n",
      "C:\\Users\\jz124\\Anaconda2\\envs\\py36\\lib\\site-packages\\tensorflow\\python\\framework\\dtypes.py:525: FutureWarning: Passing (type, 1) or '1type' as a synonym of type is deprecated; in a future version of numpy, it will be understood as (type, (1,)) / '(1,)type'.\n",
      "  _np_qint16 = np.dtype([(\"qint16\", np.int16, 1)])\n",
      "C:\\Users\\jz124\\Anaconda2\\envs\\py36\\lib\\site-packages\\tensorflow\\python\\framework\\dtypes.py:526: FutureWarning: Passing (type, 1) or '1type' as a synonym of type is deprecated; in a future version of numpy, it will be understood as (type, (1,)) / '(1,)type'.\n",
      "  _np_quint16 = np.dtype([(\"quint16\", np.uint16, 1)])\n",
      "C:\\Users\\jz124\\Anaconda2\\envs\\py36\\lib\\site-packages\\tensorflow\\python\\framework\\dtypes.py:527: FutureWarning: Passing (type, 1) or '1type' as a synonym of type is deprecated; in a future version of numpy, it will be understood as (type, (1,)) / '(1,)type'.\n",
      "  _np_qint32 = np.dtype([(\"qint32\", np.int32, 1)])\n",
      "C:\\Users\\jz124\\Anaconda2\\envs\\py36\\lib\\site-packages\\tensorflow\\python\\framework\\dtypes.py:532: FutureWarning: Passing (type, 1) or '1type' as a synonym of type is deprecated; in a future version of numpy, it will be understood as (type, (1,)) / '(1,)type'.\n",
      "  np_resource = np.dtype([(\"resource\", np.ubyte, 1)])\n"
     ]
    }
   ],
   "source": [
    "import pickle\n",
    "import numpy as np\n",
    "from scipy.io import wavfile\n",
    "from util import audio\n",
    "from hparams import hparams\n",
    "from scipy import signal\n",
    "import librosa\n",
    "import librosa.display\n",
    "import matplotlib.pyplot as plt\n",
    "\n",
    "\n",
    "import tensorflow as tf\n",
    "from tensorflow.keras.models import Model\n",
    "from tensorflow.keras.layers import Dense, Dropout, Flatten, Conv1D, MaxPooling1D, Input, Layer\n",
    "from tensorflow.keras.layers import Embedding\n",
    "from tensorflow.keras import regularizers\n",
    "from tqdm import tqdm\n",
    "\n",
    "from absl import app\n",
    "from absl import flags\n",
    "from absl import logging\n",
    "\n",
    "import os\n",
    "\n",
    "small_data = 'data/lj/small.pickle'\n",
    "\n",
    "#Load small test set\n",
    "train_x = None\n",
    "train_y = None\n",
    "with open(small_data, \"rb\") as handle:\n",
    "    train_x, train_y = pickle.load(handle)"
   ]
  },
  {
   "cell_type": "code",
   "execution_count": 13,
   "metadata": {},
   "outputs": [],
   "source": [
    "#Training Parameters\n",
    "num_epochs = 100\n",
    "steps_per_epoch = None\n",
    "batch_size = 32\n",
    "loss = None\n",
    "optimizer = None\n",
    "lr = 0.001\n",
    "filters = 512\n",
    "sample_rate = 22050 #Hz 16 bit PCM WAV files\n",
    "wav_dir = './LJSPEECH-1.1/'\n",
    "out_dir = './output'\n",
    "os.makedirs(out_dir, exist_ok=True)\n",
    "hop_length = int(hparams.frame_shift_ms / 1000 * hparams.sample_rate) #change\n",
    "n_mels = 128\n",
    "n_fft = 2048\n"
   ]
  },
  {
   "cell_type": "code",
   "execution_count": 14,
   "metadata": {},
   "outputs": [
    {
     "name": "stdout",
     "output_type": "stream",
     "text": [
      "[-24 -25 -21 ...  24   7   2]\n"
     ]
    }
   ],
   "source": [
    "print(train_y[0])\n",
    "wavfile.write(\"test.wav\", sample_rate, train_y[0])"
   ]
  },
  {
   "cell_type": "code",
   "execution_count": 26,
   "metadata": {},
   "outputs": [],
   "source": [
    "#####PREPROCESSING#######\n",
    "\n",
    "ind = 1\n",
    "with open(os.path.join(wav_dir, 'metadata.csv'), encoding='utf-8') as f:\n",
    "    for inp in f:\n",
    "        data = inp.strip().split('|')\n",
    "        wav_file = os.path.join(wav_dir, 'wavs/' + data[0] + '.wav')\n",
    "        text = data[2]\n",
    "        rate, wav = wavfile.read(wav_file)\n",
    "        wav = wav.astype('float32')\n",
    "        \n",
    "        # normalize\n",
    "        wav /= wav.max()\n",
    "        \n",
    "        #Compute Spectrogram\n",
    "        fft = np.abs(librosa.stft(wav, n_fft=n_fft, hop_length=hop_length))\n",
    "        spectrogram = librosa.amplitude_to_db(fft, ref=np.max)\n",
    "        \n",
    "        n_frames = spectrogram[1]\n",
    "        \n",
    "\n",
    "        #Compute Melspectrogram\n",
    "        mel_spectrogram = librosa.feature.melspectrogram(y = wav, sr = sample_rate, n_fft=n_fft, \n",
    "                                                         hop_length=hop_length, n_mels=n_mels)\n",
    "        # melspectrogram on log scale\n",
    "        mel_spectrogram = librosa.power_to_db(S, ref=np.max)\n",
    "        spectrogram_filename = 'ljspeech-spec-%05d.npy' % ind\n",
    "        mel_filename = 'ljspeech-mel-%05d.npy' % ind\n",
    "        np.save(os.path.join(out_dir, spectrogram_filename), spectrogram.T, allow_pickle=False)\n",
    "        np.save(os.path.join(out_dir, mel_filename), mel_spectrogram.T, allow_pickle=False)\n",
    "        ind += 1\n",
    "        \n"
   ]
  },
  {
   "cell_type": "code",
   "execution_count": null,
   "metadata": {},
   "outputs": [],
   "source": []
  },
  {
   "cell_type": "code",
   "execution_count": null,
   "metadata": {},
   "outputs": [],
   "source": []
  },
  {
   "cell_type": "code",
   "execution_count": null,
   "metadata": {},
   "outputs": [],
   "source": []
  }
 ],
 "metadata": {
  "kernelspec": {
   "display_name": "Python 3",
   "language": "python",
   "name": "python3"
  },
  "language_info": {
   "codemirror_mode": {
    "name": "ipython",
    "version": 3
   },
   "file_extension": ".py",
   "mimetype": "text/x-python",
   "name": "python",
   "nbconvert_exporter": "python",
   "pygments_lexer": "ipython3",
   "version": "3.6.6"
  }
 },
 "nbformat": 4,
 "nbformat_minor": 2
}
