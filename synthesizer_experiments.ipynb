{
 "cells": [
  {
   "cell_type": "code",
   "execution_count": 1,
   "metadata": {},
   "outputs": [
    {
     "name": "stderr",
     "output_type": "stream",
     "text": [
      "C:\\Users\\jz124\\Anaconda2\\envs\\py36\\lib\\site-packages\\tensorflow\\python\\framework\\dtypes.py:523: FutureWarning: Passing (type, 1) or '1type' as a synonym of type is deprecated; in a future version of numpy, it will be understood as (type, (1,)) / '(1,)type'.\n",
      "  _np_qint8 = np.dtype([(\"qint8\", np.int8, 1)])\n",
      "C:\\Users\\jz124\\Anaconda2\\envs\\py36\\lib\\site-packages\\tensorflow\\python\\framework\\dtypes.py:524: FutureWarning: Passing (type, 1) or '1type' as a synonym of type is deprecated; in a future version of numpy, it will be understood as (type, (1,)) / '(1,)type'.\n",
      "  _np_quint8 = np.dtype([(\"quint8\", np.uint8, 1)])\n",
      "C:\\Users\\jz124\\Anaconda2\\envs\\py36\\lib\\site-packages\\tensorflow\\python\\framework\\dtypes.py:525: FutureWarning: Passing (type, 1) or '1type' as a synonym of type is deprecated; in a future version of numpy, it will be understood as (type, (1,)) / '(1,)type'.\n",
      "  _np_qint16 = np.dtype([(\"qint16\", np.int16, 1)])\n",
      "C:\\Users\\jz124\\Anaconda2\\envs\\py36\\lib\\site-packages\\tensorflow\\python\\framework\\dtypes.py:526: FutureWarning: Passing (type, 1) or '1type' as a synonym of type is deprecated; in a future version of numpy, it will be understood as (type, (1,)) / '(1,)type'.\n",
      "  _np_quint16 = np.dtype([(\"quint16\", np.uint16, 1)])\n",
      "C:\\Users\\jz124\\Anaconda2\\envs\\py36\\lib\\site-packages\\tensorflow\\python\\framework\\dtypes.py:527: FutureWarning: Passing (type, 1) or '1type' as a synonym of type is deprecated; in a future version of numpy, it will be understood as (type, (1,)) / '(1,)type'.\n",
      "  _np_qint32 = np.dtype([(\"qint32\", np.int32, 1)])\n",
      "C:\\Users\\jz124\\Anaconda2\\envs\\py36\\lib\\site-packages\\tensorflow\\python\\framework\\dtypes.py:532: FutureWarning: Passing (type, 1) or '1type' as a synonym of type is deprecated; in a future version of numpy, it will be understood as (type, (1,)) / '(1,)type'.\n",
      "  np_resource = np.dtype([(\"resource\", np.ubyte, 1)])\n"
     ]
    }
   ],
   "source": [
    "import pickle\n",
    "import numpy as np\n",
    "from scipy.io import wavfile\n",
    "from util import audio\n",
    "from hparams import hparams\n",
    "from scipy import signal\n",
    "import librosa\n",
    "import librosa.display\n",
    "import matplotlib.pyplot as plt\n",
    "\n",
    "\n",
    "import tensorflow as tf\n",
    "from tensorflow.keras.models import Model\n",
    "from tensorflow.keras.layers import Dense, Dropout, Flatten, Conv1D, MaxPooling1D, Input, Layer\n",
    "from tensorflow.keras.layers import Embedding\n",
    "from tensorflow.keras import regularizers\n",
    "from tqdm import tqdm\n",
    "\n",
    "from absl import app\n",
    "from absl import flags\n",
    "from absl import logging\n",
    "\n",
    "import os\n",
    "\n",
    "# small_data = 'data/lj/small.pickle'\n",
    "\n",
    "# #Load small test set\n",
    "# train_x = None\n",
    "# train_y = None\n",
    "# with open(small_data, \"rb\") as handle:\n",
    "#     train_x, train_y = pickle.load(handle)\n",
    "# print(train_x[0])\n",
    "# print(train_y[0])"
   ]
  },
  {
   "cell_type": "code",
   "execution_count": 37,
   "metadata": {},
   "outputs": [],
   "source": [
    "#Training Parameters\n",
    "num_epochs = 100\n",
    "steps_per_epoch = None\n",
    "batch_size = 32\n",
    "loss = None\n",
    "optimizer = None\n",
    "lr = 0.001\n",
    "filters = 512\n",
    "sample_rate = 22050 #Hz 16 bit PCM WAV files\n",
    "wav_dir = './LJSPEECH-1.1/'\n",
    "out_dir = './output'\n",
    "os.makedirs(out_dir, exist_ok=True)\n",
    "hop_length = int(hparams.frame_shift_ms / 1000 * hparams.sample_rate) #change\n",
    "win_length = int(hparams.frame_length_ms / 1000 * hparams.sample_rate)\n",
    "n_mels = 128\n",
    "n_fft = 2048\n",
    "\n",
    "def preemphasis(x):\n",
    "    return signal.lfilter([1, -hparams.preemphasis], [1], x)\n",
    "def inv_preemphasis(x):\n",
    "    return signal.lfilter([1], [1, -hparams.preemphasis], x)"
   ]
  },
  {
   "cell_type": "code",
   "execution_count": 27,
   "metadata": {},
   "outputs": [],
   "source": [
    "# print(train_y[0])\n",
    "# wavfile.write(\"test.wav\", sample_rate, train_y[0])"
   ]
  },
  {
   "cell_type": "code",
   "execution_count": 53,
   "metadata": {
    "scrolled": false
   },
   "outputs": [
    {
     "name": "stdout",
     "output_type": "stream",
     "text": [
      "Printing, in the only sense with which we are at present concerned, differs from most if not from all the arts and crafts represented in the Exhibition,,,,,,,,,,,,,,,\n",
      "22050\n"
     ]
    },
    {
     "name": "stderr",
     "output_type": "stream",
     "text": [
      "C:\\Users\\jz124\\Anaconda2\\envs\\py36\\lib\\site-packages\\scipy\\signal\\signaltools.py:1344: FutureWarning: Using a non-tuple sequence for multidimensional indexing is deprecated; use `arr[tuple(seq)]` instead of `arr[seq]`. In the future this will be interpreted as an array index, `arr[np.array(seq)]`, which will result either in an error or a different result.\n",
      "  out = out_full[ind]\n"
     ]
    },
    {
     "name": "stdout",
     "output_type": "stream",
     "text": [
      "in being comparatively modern.,,,,,,,,,,,,,,,,,,,\n",
      "22050\n",
      "For although the Chinese took impressions from wood blocks engraved in relief for centuries before the woodcutters of the Netherlands, by a similar process,,,,,,,,,,,,,,,,,\n",
      "22050\n"
     ]
    }
   ],
   "source": [
    "#####PREPROCESSING#######\n",
    "\n",
    "ind = 1\n",
    "with open(os.path.join(wav_dir, 'metadata.csv'), encoding='utf-8') as f:\n",
    "    for inp in f:\n",
    "        data = inp.strip().split('|')\n",
    "        wav_file = os.path.join(wav_dir, 'wavs/' + data[0] + '.wav')\n",
    "        text = data[2]\n",
    "        print(text)\n",
    "        wav, rate = librosa.core.load(wav_file, sr=None)\n",
    "        print(rate)\n",
    "        wav2 = wav.astype('float')\n",
    "        # normalize\n",
    "        wav = audio.load_wav(wav_file)\n",
    "        #Compute Spectrogram\n",
    "#         spectrogram = audio.spectrogram(wav)\n",
    "        #Compute Spectrogram\n",
    "        spectrogram = preemphasis(wav)\n",
    "        spectrogram = np.abs(librosa.stft(spectrogram, n_fft=n_fft, hop_length=hop_length, win_length=win_length))\n",
    "        spectrogram = librosa.amplitude_to_db(spectrogram, ref=np.max)\n",
    "        \n",
    "        spectrogram = audio._normalize(spectrogram)\n",
    "        n_frames = spectrogram[1]\n",
    "        waveform = audio.inv_spectrogram(spectrogram)\n",
    "        audio.save_wav(waveform, 'step-%d-audio.wav' % ind)\n",
    "        #Compute Melspectrogram\n",
    "        mel_spectrogram = librosa.feature.melspectrogram(y = wav, sr = sample_rate, n_fft=n_fft, \n",
    "                                                         hop_length=hop_length, \n",
    "                                                         win_length = win_length,\n",
    "                                                         n_mels=n_mels)\n",
    "        # melspectrogram on log scale\n",
    "#         mel_spectrogram = librosa.power_to_db(mel_spectrogram, ref=np.max)\n",
    "        \n",
    "        \n",
    "        \n",
    "        #file saving\n",
    "        spectrogram_filename = 'ljspeech-spec-%05d.npy' % ind\n",
    "        mel_filename = 'ljspeech-mel-%05d.npy' % ind\n",
    "        np.save(os.path.join(out_dir, spectrogram_filename), spectrogram.T, allow_pickle=False)\n",
    "        np.save(os.path.join(out_dir, mel_filename), mel_spectrogram.T, allow_pickle=False)\n",
    "        \n",
    "        \n",
    "        ind += 1\n",
    "        \n"
   ]
  },
  {
   "cell_type": "code",
   "execution_count": 25,
   "metadata": {
    "scrolled": false
   },
   "outputs": [
    {
     "data": {
      "text/plain": [
       "array([[8.5631573e-06, 3.2648091e-05, 4.1935720e-05, ..., 3.9799815e-07,\n",
       "        1.1173992e-06, 9.5501946e-07],\n",
       "       [1.8225535e-05, 8.8215995e-05, 1.5128181e-04, ..., 5.3997394e-07,\n",
       "        1.6153452e-06, 1.3832307e-06],\n",
       "       [2.7657237e-05, 1.8380619e-04, 3.5688866e-04, ..., 6.9680118e-07,\n",
       "        2.0345626e-06, 1.7245667e-06],\n",
       "       ...,\n",
       "       [4.7496592e-06, 7.8812947e-05, 3.5650693e-05, ..., 3.8170538e-07,\n",
       "        1.4434181e-07, 2.6579690e-08],\n",
       "       [1.0110153e-05, 6.9919974e-05, 5.7727666e-05, ..., 3.3499708e-07,\n",
       "        1.7116160e-07, 3.1338125e-08],\n",
       "       [1.3446468e-05, 6.3574065e-05, 8.6454798e-05, ..., 2.9122504e-07,\n",
       "        1.7826329e-07, 3.3713881e-08]], dtype=float32)"
      ]
     },
     "execution_count": 25,
     "metadata": {},
     "output_type": "execute_result"
    }
   ],
   "source": [
    "np.load('./output/ljspeech-mel-00001.npy')"
   ]
  },
  {
   "cell_type": "code",
   "execution_count": 30,
   "metadata": {},
   "outputs": [
    {
     "name": "stdout",
     "output_type": "stream",
     "text": [
      "Printing, in the only sense with which we are at present concerned, differs from most if not from all the arts and crafts represented in the Exhibition,,,,,,,,,,,,,,,\n"
     ]
    },
    {
     "name": "stderr",
     "output_type": "stream",
     "text": [
      "C:\\Users\\jz124\\Anaconda2\\envs\\py36\\lib\\site-packages\\scipy\\signal\\signaltools.py:1344: FutureWarning: Using a non-tuple sequence for multidimensional indexing is deprecated; use `arr[tuple(seq)]` instead of `arr[seq]`. In the future this will be interpreted as an array index, `arr[np.array(seq)]`, which will result either in an error or a different result.\n",
      "  out = out_full[ind]\n"
     ]
    },
    {
     "name": "stdout",
     "output_type": "stream",
     "text": [
      "in being comparatively modern.,,,,,,,,,,,,,,,,,,,\n",
      "For although the Chinese took impressions from wood blocks engraved in relief for centuries before the woodcutters of the Netherlands, by a similar process,,,,,,,,,,,,,,,,,\n"
     ]
    }
   ],
   "source": [
    "#####PREPROCESSING#######\n",
    "\n",
    "ind = 1\n",
    "with open(os.path.join(wav_dir, 'metadata.csv'), encoding='utf-8') as f:\n",
    "    for inp in f:\n",
    "        data = inp.strip().split('|')\n",
    "        wav_file = os.path.join(wav_dir, 'wavs/' + data[0] + '.wav')\n",
    "        text = data[2]\n",
    "        print(text)\n",
    "        wav = audio.load_wav(wav_file)\n",
    "        \n",
    "        #Compute Spectrogram\n",
    "        spectrogram = audio.spectrogram(wav)\n",
    "        waveform = audio.inv_spectrogram(spectrogram)\n",
    "        audio.save_wav(waveform, 'step-%d-audio.wav' % ind)\n",
    "        #Compute Melspectrogram\n",
    "        mel_spectrogram = librosa.feature.melspectrogram(y = wav, sr = sample_rate, n_fft=n_fft, \n",
    "                                                         hop_length=hop_length, n_mels=n_mels)\n",
    "        # melspectrogram on log scale\n",
    "#         mel_spectrogram = librosa.power_to_db(mel_spectrogram, ref=np.max)\n",
    "        \n",
    "        \n",
    "        \n",
    "        #file saving\n",
    "        spectrogram_filename = 'ljspeech-spec-%05d.npy' % ind\n",
    "        mel_filename = 'ljspeech-mel-%05d.npy' % ind\n",
    "        np.save(os.path.join(out_dir, spectrogram_filename), spectrogram.T, allow_pickle=False)\n",
    "        np.save(os.path.join(out_dir, mel_filename), mel_spectrogram.T, allow_pickle=False)\n",
    "        \n",
    "        \n",
    "        ind += 1\n",
    "        \n"
   ]
  },
  {
   "cell_type": "code",
   "execution_count": null,
   "metadata": {},
   "outputs": [],
   "source": []
  }
 ],
 "metadata": {
  "kernelspec": {
   "display_name": "Python 3",
   "language": "python",
   "name": "python3"
  },
  "language_info": {
   "codemirror_mode": {
    "name": "ipython",
    "version": 3
   },
   "file_extension": ".py",
   "mimetype": "text/x-python",
   "name": "python",
   "nbconvert_exporter": "python",
   "pygments_lexer": "ipython3",
   "version": "3.6.6"
  }
 },
 "nbformat": 4,
 "nbformat_minor": 2
}
